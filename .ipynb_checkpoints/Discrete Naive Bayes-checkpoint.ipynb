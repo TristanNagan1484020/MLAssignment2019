{
 "cells": [
  {
   "cell_type": "code",
   "execution_count": 32,
   "metadata": {
    "collapsed": true
   },
   "outputs": [],
   "source": [
    "# Initialization Cell\n",
    "import os\n",
    "import numpy as np\n",
    "from random import randint\n",
    "from scipy.stats import norm\n",
    "from mido import MidiFile\n",
    "import matplotlib.pyplot as plt\n",
    "from sklearn.metrics import confusion_matrix"
   ]
  },
  {
   "cell_type": "markdown",
   "metadata": {},
   "source": [
    "# Data Extraction"
   ]
  },
  {
   "cell_type": "code",
   "execution_count": 33,
   "metadata": {
    "collapsed": true
   },
   "outputs": [],
   "source": [
    "def extractData():\n",
    "    fileNames = []\n",
    "    data = []\n",
    "    for file in os.listdir(os.getcwd() + \"/midiFiles\"):\n",
    "        if file.endswith(\".mid\"):\n",
    "            fileNames.append(file)\n",
    "    \n",
    "    for file in fileNames:\n",
    "        data.append(MidiFile(\"midiFiles/\" + file))\n",
    "    return data  "
   ]
  },
  {
   "cell_type": "markdown",
   "metadata": {},
   "source": [
    "## Labels"
   ]
  },
  {
   "cell_type": "code",
   "execution_count": 34,
   "metadata": {
    "collapsed": true
   },
   "outputs": [],
   "source": [
    "def getComposer(mid):\n",
    "    for track in mid.tracks:\n",
    "        for msg in track:\n",
    "            if msg.type == 'text':\n",
    "                return msg.text"
   ]
  },
  {
   "cell_type": "code",
   "execution_count": 35,
   "metadata": {
    "collapsed": true
   },
   "outputs": [],
   "source": [
    "# a = extractData()\n",
    "# print(len(a))"
   ]
  },
  {
   "cell_type": "markdown",
   "metadata": {},
   "source": [
    "## Features"
   ]
  },
  {
   "cell_type": "code",
   "execution_count": 36,
   "metadata": {
    "collapsed": true
   },
   "outputs": [],
   "source": [
    "def getTimeSig(mid):\n",
    "    \"\"\"\n",
    "    Take in a MIDI file and return a list of time signature changes\n",
    "    \"\"\"\n",
    "    \n",
    "    \n",
    "    for track in mid.tracks:\n",
    "        for msg in track:\n",
    "            if(msg.type == 'time_signature'):\n",
    "                return str(msg.numerator) + ',' + str(msg.denominator)\n",
    "    \n",
    "    raise(NotImplementedError)"
   ]
  },
  {
   "cell_type": "code",
   "execution_count": 37,
   "metadata": {
    "collapsed": true
   },
   "outputs": [],
   "source": [
    "def getKey(mid):\n",
    "    \"\"\"\n",
    "    Take in a midi file and return the key\n",
    "    \"\"\"\n",
    "    \n",
    "    for track in mid.tracks:\n",
    "        for msg in track:\n",
    "            if(msg.type == 'key_signature'):\n",
    "                return(msg.key)"
   ]
  },
  {
   "cell_type": "code",
   "execution_count": 38,
   "metadata": {
    "collapsed": true
   },
   "outputs": [],
   "source": [
    "def getAvgTempo(mid):\n",
    "    \"\"\"\n",
    "    Take in a MIDI file and return the average tempo\n",
    "    \"\"\"\n",
    "    temps = []\n",
    "    for track in mid.tracks:\n",
    "        for msg in track:\n",
    "            if msg.type == 'set_tempo':\n",
    "                temps.append(msg.tempo)\n",
    "    return sum(temps) / len(temps)"
   ]
  },
  {
   "cell_type": "code",
   "execution_count": 39,
   "metadata": {
    "collapsed": true
   },
   "outputs": [],
   "source": [
    "# getTimeSig(rawData[0])"
   ]
  },
  {
   "cell_type": "markdown",
   "metadata": {},
   "source": [
    "# Data Preparation"
   ]
  },
  {
   "cell_type": "code",
   "execution_count": 40,
   "metadata": {
    "collapsed": true
   },
   "outputs": [],
   "source": [
    "def prepareData(data, accepted_composers):\n",
    "    y = []\n",
    "    x_key = []\n",
    "    x_sig = []\n",
    "    x_tempo = []\n",
    "    for song in data:\n",
    "        c = getComposer(song)\n",
    "        for rule in accepted_composers:\n",
    "            if rule in c:\n",
    "                y.append(rule)\n",
    "                x_key.append(getKey(song))\n",
    "                x_sig.append(getTimeSig(song))\n",
    "                x_tempo.append(getAvgTempo(song))\n",
    "    \n",
    "    # Discretize tempo data into low, mid, high\n",
    "    [mu, std] = norm.fit(x_tempo)\n",
    "    l1 = mu - std\n",
    "    l2 = mu + std\n",
    "    \n",
    "    for i in range(len(x_tempo)):\n",
    "        if x_tempo[i] < l1:\n",
    "            x_tempo[i] = 0 # low tempo\n",
    "        elif x_tempo[i] > l2:\n",
    "            x_tempo[i] = 2 # high tempo\n",
    "        else:\n",
    "            x_tempo[i] = 1 # mid tempo. about 65% of data should lie in this group\n",
    "            \n",
    "    \n",
    "    return [[x_key, x_sig, x_tempo],y]"
   ]
  },
  {
   "cell_type": "code",
   "execution_count": 41,
   "metadata": {
    "collapsed": true
   },
   "outputs": [],
   "source": [
    "# prepareData(rawData, ['Mozart', 'Chopin'])"
   ]
  },
  {
   "cell_type": "code",
   "execution_count": 42,
   "metadata": {
    "collapsed": true
   },
   "outputs": [],
   "source": [
    "def splitData(data, labels, ratio):\n",
    "    n = int(len(data[0])*ratio)\n",
    "    d_train = []\n",
    "    l_train = []\n",
    "    kt = []\n",
    "    st = []\n",
    "    for i in range(n):\n",
    "        x = randint(0, len(labels) - 1)\n",
    "        kt.append(data[0].pop(x))\n",
    "        st.append(data[1].pop(x))\n",
    "        l_train.append(labels.pop(x))\n",
    "    d_train = [kt, st]\n",
    "    return [d_train, l_train, data, labels]"
   ]
  },
  {
   "cell_type": "code",
   "execution_count": 43,
   "metadata": {
    "collapsed": true
   },
   "outputs": [],
   "source": [
    "def splitData2(data, labels, ratio):\n",
    "    n = int(len(data[0])*ratio)\n",
    "    d_train = []\n",
    "    l_train = []\n",
    "    kt = []\n",
    "    st = []\n",
    "    label_space = list(set(labels))\n",
    "    label_count = np.zeros(len(label_space))\n",
    "    count = int(n / len(label_space))\n",
    "    for i in range(n):\n",
    "        x = randint(0, len(labels) - 1)\n",
    "        if(label_count[label_space.index(labels[x])] >= count):\n",
    "            i -= 1\n",
    "            continue\n",
    "        label_count[label_space.index(labels[x])] += 1\n",
    "        kt.append(data[0].pop(x))\n",
    "        st.append(data[1].pop(x))\n",
    "        l_train.append(labels.pop(x))\n",
    "        \n",
    "    d_train = [kt, st]\n",
    "    return [d_train, l_train, data, labels]"
   ]
  },
  {
   "cell_type": "code",
   "execution_count": 44,
   "metadata": {
    "collapsed": true
   },
   "outputs": [],
   "source": [
    "# dat = splitData2(xVals, yVals, 0.5)\n",
    "# print(dat)"
   ]
  },
  {
   "cell_type": "markdown",
   "metadata": {},
   "source": [
    "# Learning"
   ]
  },
  {
   "cell_type": "code",
   "execution_count": 45,
   "metadata": {
    "collapsed": true
   },
   "outputs": [],
   "source": [
    "# rawData = extractData()\n",
    "# [xVals, yVals] = prepareData(rawData, problem_space)"
   ]
  },
  {
   "cell_type": "code",
   "execution_count": 46,
   "metadata": {
    "collapsed": true
   },
   "outputs": [],
   "source": [
    "def learnNaiveBayes(t_data, t_labels):\n",
    "    \"\"\"\n",
    "    Take in training data and corresponing labels, return a NB model\n",
    "    Inputs:\n",
    "        t_data - a list of features, each feature being a list of values\n",
    "        t_labels - the corresponding labels\n",
    "    \"\"\"\n",
    "    composers = list(set(t_labels))\n",
    "    comp_counts = []\n",
    "    tables = []\n",
    "    py = []\n",
    "    for composer in composers:\n",
    "        py.append(t_labels.count(composer) / len(t_labels))\n",
    "        comp_counts.append(t_labels.count(composer))\n",
    "        \n",
    "    for i in range(len(t_data)):\n",
    "        f_vals = list(set(t_data[i]))\n",
    "        px_feat = [0]*len(f_vals)\n",
    "        for j in range(len(f_vals)):\n",
    "            px_feat[j] = t_data[i].count(f_vals[j]) / len(t_labels)\n",
    "        pxy_feat = []\n",
    "        for composer in composers:\n",
    "            k = []\n",
    "            for j in range(len(t_labels)):\n",
    "                if t_labels[i] == composer:\n",
    "                    k.append(t_data[i][j])\n",
    "            pxy_feat.append(k)\n",
    "        feat_table = [f_vals, px_feat]\n",
    "    \n",
    "        for j in range(len(composers)):\n",
    "            k = []\n",
    "            for m in range(len(f_vals)):\n",
    "                k.append((pxy_feat[j].count(f_vals[m])) / comp_counts[i])\n",
    "            feat_table.append(k)\n",
    "        tables.append(feat_table)\n",
    "        \n",
    "    return [composers, comp_counts, py, tables]"
   ]
  },
  {
   "cell_type": "code",
   "execution_count": 47,
   "metadata": {
    "collapsed": true
   },
   "outputs": [],
   "source": [
    "# trained_model = learnNaiveBayes(xVals, yVals)"
   ]
  },
  {
   "cell_type": "code",
   "execution_count": null,
   "metadata": {
    "collapsed": true
   },
   "outputs": [],
   "source": []
  },
  {
   "cell_type": "markdown",
   "metadata": {},
   "source": [
    "# Classification"
   ]
  },
  {
   "cell_type": "code",
   "execution_count": null,
   "metadata": {
    "collapsed": true
   },
   "outputs": [],
   "source": []
  },
  {
   "cell_type": "code",
   "execution_count": 48,
   "metadata": {
    "collapsed": true
   },
   "outputs": [],
   "source": [
    "def classifySongNB(model, xVal):\n",
    "    composers = model[0]\n",
    "    comp_counts = model[1]\n",
    "    py = model[2]\n",
    "    probs = [1]*len(composers)\n",
    "    tables = model[3]\n",
    "    \n",
    "    for i in range(len(xVal)):\n",
    "        tab = tables[i]\n",
    "        if xVal[i] not in tab[0]:\n",
    "            px = 1/ sum(comp_counts)\n",
    "        else:\n",
    "            j = tab[0].index(xVal[i])\n",
    "            px = tab[1][j] + 1/ sum(comp_counts)\n",
    "        \n",
    "        for m in range(len(composers)):\n",
    "            pxy = tab[2 + m][i]\n",
    "        probs[m] *= (pxy * py[m]) / px\n",
    "    return(composers[probs.index(max(probs))])"
   ]
  },
  {
   "cell_type": "code",
   "execution_count": 49,
   "metadata": {
    "collapsed": true
   },
   "outputs": [],
   "source": [
    "# trained_model = learnNaiveBayes(xVals, yVals)\n",
    "# classifySongNB(trained_model, [xVals[0][0], xVals[1][0]])"
   ]
  },
  {
   "cell_type": "markdown",
   "metadata": {},
   "source": [
    "# Testing"
   ]
  },
  {
   "cell_type": "code",
   "execution_count": 50,
   "metadata": {
    "collapsed": true
   },
   "outputs": [],
   "source": [
    "def testNB(model, t_data, t_labels):\n",
    "    good = 0\n",
    "    bad = 0\n",
    "    n = len(t_labels)\n",
    "    pred = []\n",
    "    act = []\n",
    "    for i in range(len(t_labels)):\n",
    "#         print(t_data[2])\n",
    "        prediction = classifySongNB(model, [t_data[0][i], t_data[1][i]])\n",
    "        pred.append(prediction)\n",
    "        act.append(t_labels[i])\n",
    "#         print('True: ', t_labels[i], ' ; Predicted: ', prediction)\n",
    "#         print('')\n",
    "        if prediction == t_labels[i]:\n",
    "            good += 1\n",
    "        else:\n",
    "            bad += 1\n",
    "    print('Good: ', good, \", Bad: \", bad)\n",
    "    return [pred, act]"
   ]
  },
  {
   "cell_type": "code",
   "execution_count": 51,
   "metadata": {
    "collapsed": true
   },
   "outputs": [],
   "source": [
    "def printM(matrix, targets):\n",
    "    plt.imshow(matrix, interpolation='nearest', cmap=plt.cm.Pastel1)\n",
    "    plt.title('Confusion matrix')\n",
    "    tick_marks = np.arange(len(targets))\n",
    "    plt.xticks(tick_marks, targets, rotation=90)\n",
    "    plt.yticks(tick_marks, targets)\n",
    "    plt.tight_layout()\n",
    "    width, height = matrix.shape\n",
    "    for x in range(width):\n",
    "        for y in range(height):\n",
    "            plt.annotate(str(matrix[x][y]), xy=(y,x),\n",
    "                        horizontalalignment = 'center',\n",
    "                        verticalalignment= 'center')\n",
    "    plt.ylabel('Prediction')\n",
    "    plt.xlabel('Actual')\n",
    "    plt.show()"
   ]
  },
  {
   "cell_type": "code",
   "execution_count": 28,
   "metadata": {
    "collapsed": true
   },
   "outputs": [],
   "source": [
    "problem_space = ['Beethoven','Chopin','Mozart', 'Schubert'] # ['Mozart', 'Chopin', 'Schubert']\n",
    "rawData = extractData()\n",
    "[xVals, yVals] = prepareData(rawData, problem_space)\n"
   ]
  },
  {
   "cell_type": "code",
   "execution_count": 29,
   "metadata": {},
   "outputs": [
    {
     "name": "stdout",
     "output_type": "stream",
     "text": [
      "Good:  30 , Bad:  28\n"
     ]
    }
   ],
   "source": [
    "dat = splitData2(xVals, yVals, 0.6)\n",
    "trained_model = learnNaiveBayes(dat[0], dat[1])\n",
    "[results, actual] = testNB(trained_model, dat[2], dat[3])"
   ]
  },
  {
   "cell_type": "code",
   "execution_count": 30,
   "metadata": {},
   "outputs": [
    {
     "name": "stdout",
     "output_type": "stream",
     "text": [
      "['Chopin', 'Schubert', 'Beethoven', 'Mozart']\n",
      "[[ 30.  11.  11.   6.]\n",
      " [  0.   0.   0.   0.]\n",
      " [  0.   0.   0.   0.]\n",
      " [  0.   0.   0.   0.]]\n"
     ]
    },
    {
     "data": {
      "image/png": "[encoded data removed]",
      "text/plain": [
       "<matplotlib.figure.Figure at 0x7ff77c8ad4e0>"
      ]
     },
     "metadata": {},
     "output_type": "display_data"
    }
   ],
   "source": [
    "comps = list(set(yVals))\n",
    "print(comps)\n",
    "confusion = np.zeros([len(comps), len(comps)])\n",
    "for i in range(len(results)):\n",
    "    confusion[comps.index(results[i]), comps.index(actual[i])] += 1\n",
    "\n",
    "print(confusion)\n",
    "printM(confusion_matrix(results, actual), problem_space)"
   ]
  },
  {
   "cell_type": "code",
   "execution_count": null,
   "metadata": {
    "collapsed": true
   },
   "outputs": [],
   "source": []
  },
  {
   "cell_type": "code",
   "execution_count": null,
   "metadata": {
    "collapsed": true
   },
   "outputs": [],
   "source": [
    "# run the test 10 times\n",
    "# DANGER\n",
    "problem_space = ['Mozart', 'Chopin','Schubert']\n",
    "for i in range(10):\n",
    "    rawData = extractData()\n",
    "    [xVals, yVals] = prepareData(rawData, problem_space)\n",
    "    dat = splitData(xVals, yVals, 0.6)\n",
    "    trained_model = learnNaiveBayes(dat[0], yVals)\n",
    "    print(testNB(trained_model, dat[2], dat[3]))"
   ]
  },
  {
   "cell_type": "code",
   "execution_count": null,
   "metadata": {
    "collapsed": true
   },
   "outputs": [],
   "source": [
    "# run the test 10 times\n",
    "# DANGER\n",
    "problem_space = ['Mozart', 'Chopin', 'Schubert']\n",
    "for i in range(10):\n",
    "    rawData = extractData()\n",
    "    [xVals, yVals] = prepareData(rawData, problem_space)\n",
    "    dat = splitData(xVals, yVals, 0.6)\n",
    "    trained_model = learnNaiveBayes(dat[0], yVals)\n",
    "    testNB(trained_model, dat[2], dat[3])"
   ]
  },
  {
   "cell_type": "code",
   "execution_count": null,
   "metadata": {
    "collapsed": true
   },
   "outputs": [],
   "source": [
    "# problem_space = ['Mozart', 'Chopin'] # ['Mozart', 'Chopin', 'Schubert']\n",
    "# rawData = extractData()"
   ]
  },
  {
   "cell_type": "code",
   "execution_count": null,
   "metadata": {
    "collapsed": true
   },
   "outputs": [],
   "source": [
    "def getFeat(mid):\n",
    "    \"\"\"\n",
    "    Take in a MIDI file and return a list of time signature changes\n",
    "    \"\"\"\n",
    "    \n",
    "    \n",
    "    for track in mid.tracks:\n",
    "        for msg in track:\n",
    "            print(msg)\n",
    "#             if(msg.type == 'time_signature'):\n",
    "#                 return str(msg.numerator) + ',' + str(msg.denominator)\n",
    "    \n",
    "    raise(NotImplementedError)"
   ]
  },
  {
   "cell_type": "code",
   "execution_count": null,
   "metadata": {
    "collapsed": true
   },
   "outputs": [],
   "source": [
    "getFeat(rawData[0])"
   ]
  },
  {
   "cell_type": "code",
   "execution_count": null,
   "metadata": {
    "collapsed": true
   },
   "outputs": [],
   "source": [
    "def tempoPlot(data):\n",
    "    d = []\n",
    "    for point in data[0]:\n",
    "        d.append(point)\n",
    "    return d"
   ]
  },
  {
   "cell_type": "code",
   "execution_count": 52,
   "metadata": {
    "collapsed": true
   },
   "outputs": [],
   "source": [
    "raw = extractData()\n",
    "[x,y] = prepareData(raw, ['Mozart', 'Chopin', 'Schubert', 'Beethoven'])"
   ]
  },
  {
   "cell_type": "code",
   "execution_count": null,
   "metadata": {
    "collapsed": true
   },
   "outputs": [],
   "source": [
    "temps = tempoPlot(x)"
   ]
  },
  {
   "cell_type": "code",
   "execution_count": null,
   "metadata": {
    "collapsed": true
   },
   "outputs": [],
   "source": [
    "cats = list(set(temps))\n",
    "vals = np.zeros(len(cats))\n",
    "for i in range(len(cats)):\n",
    "    vals[i] = temps.count(cats[i])\n",
    "a = range(len(cats))\n",
    "b = range(0,int(np.max(vals)) + 1,2)\n",
    "plt.bar(a, vals)\n",
    "plt.xticks(a, cats, rotation=90)\n",
    "plt.yticks(b)\n",
    "plt.show()\n",
    "print(sum(vals))"
   ]
  },
  {
   "cell_type": "code",
   "execution_count": 54,
   "metadata": {
    "scrolled": true
   },
   "outputs": [
    {
     "name": "stdout",
     "output_type": "stream",
     "text": [
      "[['Ab', 'C', 'F', 'D', 'D', 'C', 'Ab', 'F', 'Eb', 'E', 'Db', 'Ab', 'A', 'Eb', 'Bb', 'Bb', 'Ab', 'G', 'F#', 'E', 'Bb', 'Ab', 'Eb', 'Gb', 'Db', 'F', 'Bb', 'Ab', 'A', 'Gb', 'Eb', 'G', 'Db', 'C', 'Ab', 'C', 'Eb', 'B', 'Eb', 'Ab', 'G', 'E', 'Db', 'A', 'Bb', 'Eb', 'Bb', 'Ab', 'F', 'Gb', 'Eb', 'C', 'E', 'Gb', 'C', 'C', 'Ab', 'Db', 'Db', 'C', 'Bb', 'Bb', 'Ab', 'Bb', 'A', 'F', 'Ab', 'D', 'Bb', 'E', 'C', 'Ab', 'C', 'Db', 'B', 'Eb', 'Eb', 'Ab', 'F', 'Bb', 'Eb', 'D', 'Eb', 'C', 'Ab', 'C', 'E', 'D', 'D', 'E', 'Eb', 'Bb', 'Bb', 'C', 'D', 'Bb', 'Eb', 'Eb', 'D', 'Bb', 'F', 'E', 'Ab', 'Bb', 'C', 'Eb', 'C', 'A', 'Eb', 'Db', 'D', 'Bb', 'C', 'C', 'F', 'A', 'C', 'Ab', 'Bb', 'E', 'Db', 'Ab', 'G'], ['3,4', '2,4', '3,4', '3,4', '4,4', '2,4', '2,4', '6,8', '3,4', '2,4', '3,4', '9,8', '6,8', '4,4', '3,4', '4,4', '2,4', '3,4', '6,4', '4,4', '6,8', '3,4', '3,4', '8,4', '2,4', '6,8', '3,4', '12,8', '4,4', '2,4', '9,8', '4,4', '4,4', '2,4', '4,4', '4,4', '3,4', '6,8', '4,4', '4,4', '4,4', '4,4', '6,8', '3,4', '4,4', '4,4', '4,4', '2,4', '3,4', '4,4', '4,4', '3,4', '4,4', '3,4', '4,4', '4,4', '2,4', '4,4', '4,4', '4,4', '3,8', '4,4', '3,8', '2,4', '3,4', '6,8', '2,4', '4,4', '3,8', '4,4', '4,4', '4,4', '4,4', '3,8', '3,8', '4,4', '4,4', '4,4', '4,4', '4,4', '4,2', '3,8', '2,4', '2,4', '3,4', '2,8', '3,4', '3,4', '6,8', '8,4', '4,4', '4,4', '4,4', '3,8', '3,4', '2,4', '6,8', '3,4', '4,4', '4,4', '4,4', '4,4', '3,8', '4,8', '4,4', '4,4', '3,4', '3,4', '3,4', '4,4', '3,4', '3,4', '4,4', '4,4', '4,4', '6,8', '2,4', '3,4', '3,4', '3,4', '4,4', '6,8', '2,4'], [1, 1, 1, 2, 1, 1, 2, 1, 1, 1, 1, 1, 1, 2, 1, 1, 1, 2, 1, 1, 1, 1, 1, 1, 2, 2, 1, 1, 1, 1, 1, 1, 1, 1, 1, 1, 1, 1, 1, 1, 1, 2, 2, 1, 1, 1, 1, 1, 1, 1, 2, 1, 2, 1, 1, 1, 1, 1, 1, 1, 1, 1, 1, 1, 1, 1, 1, 1, 1, 1, 2, 1, 1, 1, 1, 1, 1, 1, 1, 1, 1, 1, 1, 1, 1, 1, 2, 1, 1, 1, 1, 1, 1, 1, 1, 1, 1, 2, 1, 1, 1, 1, 1, 1, 1, 1, 1, 1, 1, 1, 1, 1, 1, 1, 1, 2, 1, 1, 1, 1, 1, 1, 2]]\n"
     ]
    }
   ],
   "source": [
    "print(x)"
   ]
  },
  {
   "cell_type": "code",
   "execution_count": 55,
   "metadata": {},
   "outputs": [
    {
     "name": "stdout",
     "output_type": "stream",
     "text": [
      "Schubert\n"
     ]
    }
   ],
   "source": [
    "print(y[0])"
   ]
  },
  {
   "cell_type": "code",
   "execution_count": null,
   "metadata": {
    "collapsed": true
   },
   "outputs": [],
   "source": []
  }
 ],
 "metadata": {
  "kernelspec": {
   "display_name": "Python 3",
   "language": "python",
   "name": "python3"
  },
  "language_info": {
   "codemirror_mode": {
    "name": "ipython",
    "version": 3
   },
   "file_extension": ".py",
   "mimetype": "text/x-python",
   "name": "python",
   "nbconvert_exporter": "python",
   "pygments_lexer": "ipython3",
   "version": "3.6.2"
  }
 },
 "nbformat": 4,
 "nbformat_minor": 2
}
